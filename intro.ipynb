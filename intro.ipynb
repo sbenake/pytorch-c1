{
  "cells": [
    {
      "cell_type": "markdown",
      "metadata": {
        "id": "view-in-github",
        "colab_type": "text"
      },
      "source": [
        "<a href=\"https://colab.research.google.com/github/sbenake/pytorch-c1/blob/main/intro.ipynb\" target=\"_parent\"><img src=\"https://colab.research.google.com/assets/colab-badge.svg\" alt=\"Open In Colab\"/></a>"
      ]
    },
    {
      "cell_type": "markdown",
      "source": [
        "# Intro to Pytorch"
      ],
      "metadata": {
        "id": "YaRIP_2isKFD"
      }
    },
    {
      "cell_type": "code",
      "source": [
        "import torch\n",
        "\n",
        "print(torch.__version__)\n",
        "print(torch.cuda.is_available())"
      ],
      "metadata": {
        "id": "RVJvB26ts4sQ",
        "outputId": "12877366-2143-443a-b20e-3ba45f652d60",
        "colab": {
          "base_uri": "https://localhost:8080/"
        }
      },
      "execution_count": 1,
      "outputs": [
        {
          "output_type": "stream",
          "name": "stdout",
          "text": [
            "2.5.0+cu121\n",
            "True\n"
          ]
        }
      ]
    },
    {
      "cell_type": "code",
      "source": [
        "first_tens = torch. tensor ([[12,10,11,9], [13,15,14,0]])\n",
        "second_tens = torch. tensor([[1,2,3,4], [5,6,7,8]])\n",
        "add_tens = first_tens + second_tens\n",
        "sub_tens = first_tens - second_tens\n",
        "mul_tens = first_tens * second_tens\n",
        "div_tens = first_tens / second_tens\n",
        "print (add_tens)\n",
        "print (sub_tens)\n",
        "print (mul_tens)\n",
        "print (div_tens)\n",
        "print (add_tens.size())"
      ],
      "metadata": {
        "id": "WQEe0h_JC3Oe",
        "outputId": "973437db-0402-410c-b3b6-c3f057908709",
        "colab": {
          "base_uri": "https://localhost:8080/"
        }
      },
      "execution_count": 10,
      "outputs": [
        {
          "output_type": "stream",
          "name": "stdout",
          "text": [
            "tensor([[13, 12, 14, 13],\n",
            "        [18, 21, 21,  8]])\n",
            "tensor([[11,  8,  8,  5],\n",
            "        [ 8,  9,  7, -8]])\n",
            "tensor([[12, 20, 33, 36],\n",
            "        [65, 90, 98,  0]])\n",
            "tensor([[12.0000,  5.0000,  3.6667,  2.2500],\n",
            "        [ 2.6000,  2.5000,  2.0000,  0.0000]])\n",
            "torch.Size([2, 4])\n"
          ]
        }
      ]
    }
  ],
  "metadata": {
    "colab": {
      "name": "Welcome To Colab",
      "toc_visible": true,
      "provenance": [],
      "gpuType": "T4",
      "include_colab_link": true
    },
    "kernelspec": {
      "display_name": "Python 3",
      "name": "python3"
    },
    "accelerator": "GPU"
  },
  "nbformat": 4,
  "nbformat_minor": 0
}