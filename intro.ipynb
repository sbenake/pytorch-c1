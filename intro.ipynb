{
  "cells": [
    {
      "cell_type": "markdown",
      "metadata": {
        "id": "view-in-github",
        "colab_type": "text"
      },
      "source": [
        "<a href=\"https://colab.research.google.com/github/sbenake/pytorch-c1/blob/main/intro.ipynb\" target=\"_parent\"><img src=\"https://colab.research.google.com/assets/colab-badge.svg\" alt=\"Open In Colab\"/></a>"
      ]
    },
    {
      "cell_type": "markdown",
      "source": [
        "# Intro to Pytorch"
      ],
      "metadata": {
        "id": "YaRIP_2isKFD"
      }
    },
    {
      "cell_type": "code",
      "source": [
        "import torch\n",
        "\n",
        "print(torch.__version__)\n",
        "print(torch.cuda.is_available())"
      ],
      "metadata": {
        "id": "RVJvB26ts4sQ",
        "outputId": "12877366-2143-443a-b20e-3ba45f652d60",
        "colab": {
          "base_uri": "https://localhost:8080/"
        }
      },
      "execution_count": 1,
      "outputs": [
        {
          "output_type": "stream",
          "name": "stdout",
          "text": [
            "2.5.0+cu121\n",
            "True\n"
          ]
        }
      ]
    },
    {
      "cell_type": "code",
      "source": [
        "first_tens = torch. tensor ([[12,10,11,9], [13,15,14,0]])\n",
        "second_tens = torch. tensor([[1,2,3,4], [5,6,7,8]])\n",
        "add_tens = first_tens + second_tens\n",
        "sub_tens = first_tens - second_tens\n",
        "mul_tens = first_tens * second_tens\n",
        "div_tens = first_tens / second_tens\n",
        "print (add_tens)\n",
        "print (sub_tens)\n",
        "print (mul_tens)\n",
        "print (div_tens)\n",
        "print (add_tens.size())"
      ],
      "metadata": {
        "colab": {
          "base_uri": "https://localhost:8080/"
        },
        "id": "WQEe0h_JC3Oe",
        "outputId": "973437db-0402-410c-b3b6-c3f057908709"
      },
      "execution_count": 10,
      "outputs": [
        {
          "output_type": "stream",
          "name": "stdout",
          "text": [
            "tensor([[13, 12, 14, 13],\n",
            "        [18, 21, 21,  8]])\n",
            "tensor([[11,  8,  8,  5],\n",
            "        [ 8,  9,  7, -8]])\n",
            "tensor([[12, 20, 33, 36],\n",
            "        [65, 90, 98,  0]])\n",
            "tensor([[12.0000,  5.0000,  3.6667,  2.2500],\n",
            "        [ 2.6000,  2.5000,  2.0000,  0.0000]])\n",
            "torch.Size([2, 4])\n"
          ]
        }
      ]
    },
    {
      "cell_type": "code",
      "source": [
        "if torch.cuda.is_available(): device = torch.device(\"cuda\")\n",
        "else: device = torch.device(\"cpu\")\n",
        "print (device)"
      ],
      "metadata": {
        "id": "BfYjjxxQERnE",
        "outputId": "0d5b7fa5-79cc-4439-9b1c-a308423efb46",
        "colab": {
          "base_uri": "https://localhost:8080/"
        }
      },
      "execution_count": 11,
      "outputs": [
        {
          "output_type": "stream",
          "name": "stdout",
          "text": [
            "cuda\n"
          ]
        }
      ]
    },
    {
      "cell_type": "code",
      "source": [
        "tens_1 = torch. tensor ([[12,10,11,9], [13,15,14,16]],device=device)\n",
        "tens_2 = torch. tensor([[1,2,3,4], [5,6,7,8]],device=device)\n",
        "multi_tens = tens_1 * tens_2\n",
        "print (multi_tens)"
      ],
      "metadata": {
        "colab": {
          "base_uri": "https://localhost:8080/"
        },
        "outputId": "a393cc77-02f5-4145-a9b8-2a4cd00337f9",
        "id": "2HmRPunQEjo5"
      },
      "execution_count": 13,
      "outputs": [
        {
          "output_type": "stream",
          "name": "stdout",
          "text": [
            "tensor([[ 12,  20,  33,  36],\n",
            "        [ 65,  90,  98, 128]], device='cuda:0')\n"
          ]
        }
      ]
    },
    {
      "cell_type": "markdown",
      "source": [
        "# Different ways to create Tensors\n",
        "https://pytorch.org/docs/stable/torch.html"
      ],
      "metadata": {
        "id": "hYz333reJQxH"
      }
    },
    {
      "cell_type": "code",
      "source": [
        "import numpy as np\n",
        "\n",
        "# initialize a tensor from a Python list\n",
        "tensor_from_list=torch.tensor([1,2,3,4,5])\n",
        "# initialize a tensor from a tuple, tuples are immutable\n",
        "tensor_from_tuple=torch.tensor((6,7,8,9,10))\n",
        "print(\"Tensor from list:\",tensor_from_list)\n",
        "print(\"Tensor from tuple:\",tensor_from_tuple)\n",
        "\n",
        "# initialize a tensor from a ndarray\n",
        "tensor_from_ndarray=torch.tensor(np.array([11,12,13,14,15]))\n",
        "print(\"Tensor from array:\",tensor_from_ndarray)"
      ],
      "metadata": {
        "id": "G2R5kjNAJcNo",
        "outputId": "3cc3586e-49a7-4d8e-ed41-52da5588a695",
        "colab": {
          "base_uri": "https://localhost:8080/"
        }
      },
      "execution_count": 15,
      "outputs": [
        {
          "output_type": "stream",
          "name": "stdout",
          "text": [
            "Tensor from list: tensor([1, 2, 3, 4, 5])\n",
            "Tensor from tuple: tensor([ 6,  7,  8,  9, 10])\n",
            "Tensor from array: tensor([11, 12, 13, 14, 15])\n"
          ]
        }
      ]
    },
    {
      "cell_type": "markdown",
      "source": [
        "Different functions to create tensors\n",
        "\n"
      ],
      "metadata": {
        "id": "xoUGVpH7Kgz6"
      }
    },
    {
      "cell_type": "code",
      "source": [
        "tensor_emp = torch.empty(3,4)\n",
        "print(\"tensor_emp :\",tensor_emp)\n",
        "\n",
        "tensor_zeros = torch.zeros(3,4)\n",
        "print(\"tensor_zeros :\",tensor_zeros)\n",
        "\n",
        "tensor_ones= torch.ones(3,4)\n",
        "print(\"tensor_ones :\",tensor_ones)"
      ],
      "metadata": {
        "id": "KTek-p16KgBI",
        "outputId": "68eccb0b-7be0-42a8-bed5-312dba06ddd3",
        "colab": {
          "base_uri": "https://localhost:8080/"
        }
      },
      "execution_count": 16,
      "outputs": [
        {
          "output_type": "stream",
          "name": "stdout",
          "text": [
            "tensor_emp : tensor([[1.7321e-01, 4.3904e-41, 8.1487e-05, 3.3331e-41],\n",
            "        [8.0742e-05, 3.3331e-41, 2.3988e-05, 3.3331e-41],\n",
            "        [0.0000e+00, 0.0000e+00, 2.4184e-05, 3.3331e-41]])\n",
            "tensor_zeros : tensor([[0., 0., 0., 0.],\n",
            "        [0., 0., 0., 0.],\n",
            "        [0., 0., 0., 0.]])\n",
            "tensor_ones : tensor([[1., 1., 1., 1.],\n",
            "        [1., 1., 1., 1.],\n",
            "        [1., 1., 1., 1.]])\n"
          ]
        }
      ]
    },
    {
      "cell_type": "code",
      "source": [
        "# tensors initialized by size with random values\n",
        "# returns a tensor filled with random numbers from a uniform distribution\n",
        "tensor_rand_un = torch.rand(4,5)\n",
        "print(\"tensor_rand_un :\",tensor_rand_un)\n",
        "\n",
        "# returns a tensor filled with random numbers from a normal distribution\n",
        "tensor_rand_norm = torch.randn(5,5)\n",
        "print(\"tensor_rand_norm :\",tensor_rand_norm)\n",
        "\n",
        "# returns a tensor filled with random integers generated uniformly\n",
        "tensor_rand_int = torch.randint(5,10,(4,5))\n",
        "print(\"tensor_rand_int :\",tensor_rand_int)\n",
        "\n",
        "# initialize a tensor of ones\n",
        "tensor_ones = torch.ones_like(tensor_rand_norm)\n",
        "print(tensor_ones)\n",
        "\n",
        "tensor_ones = torch.ones_like(tensor_rand_int)\n",
        "print(tensor_ones)"
      ],
      "metadata": {
        "id": "sXsH7b_oLDSB",
        "outputId": "8f3fbe63-29b3-4429-cf93-77c7e0ee1412",
        "colab": {
          "base_uri": "https://localhost:8080/"
        }
      },
      "execution_count": 24,
      "outputs": [
        {
          "output_type": "stream",
          "name": "stdout",
          "text": [
            "tensor_rand_un : tensor([[0.7437, 0.9737, 0.2842, 0.5953, 0.3228],\n",
            "        [0.1358, 0.1171, 0.1199, 0.2889, 0.5725],\n",
            "        [0.1188, 0.0935, 0.7954, 0.2197, 0.9450],\n",
            "        [0.2817, 0.5582, 0.8449, 0.3925, 0.8303]])\n",
            "tensor_rand_norm : tensor([[-1.8483, -0.0418,  2.5661, -0.7172,  0.2884],\n",
            "        [ 0.6653, -0.1430,  1.0868, -1.5998, -2.5973],\n",
            "        [-0.4691, -0.5786,  0.6697,  1.7914,  0.8420],\n",
            "        [-0.0506,  2.1877, -0.9652, -0.2349,  1.5185],\n",
            "        [-2.1046, -1.3096,  0.3948, -0.0649, -0.2558]])\n",
            "tensor_rand_int : tensor([[6, 9, 7, 7, 6],\n",
            "        [9, 5, 5, 6, 5],\n",
            "        [7, 8, 5, 7, 5],\n",
            "        [6, 5, 6, 7, 7]])\n",
            "tensor([[1., 1., 1., 1., 1.],\n",
            "        [1., 1., 1., 1., 1.],\n",
            "        [1., 1., 1., 1., 1.],\n",
            "        [1., 1., 1., 1., 1.],\n",
            "        [1., 1., 1., 1., 1.]])\n",
            "tensor([[1, 1, 1, 1, 1],\n",
            "        [1, 1, 1, 1, 1],\n",
            "        [1, 1, 1, 1, 1],\n",
            "        [1, 1, 1, 1, 1]])\n"
          ]
        }
      ]
    }
  ],
  "metadata": {
    "colab": {
      "name": "Welcome To Colab",
      "toc_visible": true,
      "provenance": [],
      "gpuType": "T4",
      "include_colab_link": true
    },
    "kernelspec": {
      "display_name": "Python 3",
      "name": "python3"
    },
    "accelerator": "GPU"
  },
  "nbformat": 4,
  "nbformat_minor": 0
}