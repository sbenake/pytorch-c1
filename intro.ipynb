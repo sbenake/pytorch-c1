{
  "cells": [
    {
      "cell_type": "markdown",
      "metadata": {
        "id": "view-in-github",
        "colab_type": "text"
      },
      "source": [
        "<a href=\"https://colab.research.google.com/github/sbenake/pytorch-c1/blob/main/intro.ipynb\" target=\"_parent\"><img src=\"https://colab.research.google.com/assets/colab-badge.svg\" alt=\"Open In Colab\"/></a>"
      ]
    },
    {
      "cell_type": "markdown",
      "source": [
        "# Intro to Pytorch"
      ],
      "metadata": {
        "id": "YaRIP_2isKFD"
      }
    },
    {
      "cell_type": "code",
      "source": [
        "import torch\n",
        "\n",
        "print(torch.__version__)\n",
        "print(torch.cuda.is_available())"
      ],
      "metadata": {
        "id": "RVJvB26ts4sQ",
        "outputId": "130c386a-11b9-42d7-a186-0a6e1df75589",
        "colab": {
          "base_uri": "https://localhost:8080/"
        }
      },
      "execution_count": 1,
      "outputs": [
        {
          "output_type": "stream",
          "name": "stdout",
          "text": [
            "2.5.0+cu121\n",
            "False\n"
          ]
        }
      ]
    },
    {
      "cell_type": "code",
      "source": [
        "first_tens = torch. tensor ([[12,10,11,9], [13,15,14,0]])\n",
        "second_tens = torch. tensor([[1,2,3,4], [5,6,7,8]])\n",
        "add_tens = first_tens + second_tens\n",
        "sub_tens = first_tens - second_tens\n",
        "mul_tens = first_tens * second_tens\n",
        "div_tens = first_tens / second_tens\n",
        "print (add_tens)\n",
        "print (sub_tens)\n",
        "print (mul_tens)\n",
        "print (div_tens)\n",
        "print (add_tens.size())"
      ],
      "metadata": {
        "colab": {
          "base_uri": "https://localhost:8080/"
        },
        "id": "WQEe0h_JC3Oe",
        "outputId": "76b8832e-40ff-4255-ee27-18de36565ba8"
      },
      "execution_count": null,
      "outputs": [
        {
          "output_type": "stream",
          "name": "stdout",
          "text": [
            "tensor([[13, 12, 14, 13],\n",
            "        [18, 21, 21,  8]])\n",
            "tensor([[11,  8,  8,  5],\n",
            "        [ 8,  9,  7, -8]])\n",
            "tensor([[12, 20, 33, 36],\n",
            "        [65, 90, 98,  0]])\n",
            "tensor([[12.0000,  5.0000,  3.6667,  2.2500],\n",
            "        [ 2.6000,  2.5000,  2.0000,  0.0000]])\n",
            "torch.Size([2, 4])\n"
          ]
        }
      ]
    },
    {
      "cell_type": "code",
      "source": [
        "if torch.cuda.is_available(): device = torch.device(\"cuda\")\n",
        "else: device = torch.device(\"cpu\")\n",
        "print (device)"
      ],
      "metadata": {
        "id": "BfYjjxxQERnE",
        "outputId": "01979e10-bd28-4836-b55b-4cbbf90581d5",
        "colab": {
          "base_uri": "https://localhost:8080/"
        }
      },
      "execution_count": null,
      "outputs": [
        {
          "output_type": "stream",
          "name": "stdout",
          "text": [
            "cuda\n"
          ]
        }
      ]
    },
    {
      "cell_type": "code",
      "source": [
        "tens_1 = torch.tensor ([[12,10,11,9], [13,15,14,16]],device=device)\n",
        "tens_2 = torch.tensor([[1,2,3,4], [5,6,7,8]],device=device)\n",
        "multi_tens = tens_1 * tens_2\n",
        "print (multi_tens)"
      ],
      "metadata": {
        "colab": {
          "base_uri": "https://localhost:8080/"
        },
        "outputId": "507b31fa-6e5e-41bf-ace1-5ad93d466751",
        "id": "2HmRPunQEjo5"
      },
      "execution_count": null,
      "outputs": [
        {
          "output_type": "stream",
          "name": "stdout",
          "text": [
            "tensor([[ 12,  20,  33,  36],\n",
            "        [ 65,  90,  98, 128]], device='cuda:0')\n"
          ]
        }
      ]
    },
    {
      "cell_type": "markdown",
      "source": [
        "# Different ways to create Tensors\n",
        "https://pytorch.org/docs/stable/torch.html"
      ],
      "metadata": {
        "id": "hYz333reJQxH"
      }
    },
    {
      "cell_type": "code",
      "source": [
        "import numpy as np\n",
        "\n",
        "# initialize a tensor from a Python list\n",
        "tensor_from_list=torch.tensor([1,2,3,4,5])\n",
        "# initialize a tensor from a tuple, tuples are immutable\n",
        "tensor_from_tuple=torch.tensor((6,7,8,9,10))\n",
        "print(\"Tensor from list:\",tensor_from_list)\n",
        "print(\"Tensor from tuple:\",tensor_from_tuple)\n",
        "\n",
        "# initialize a tensor from a ndarray\n",
        "tensor_from_ndarray=torch.tensor(np.array([11,12,13,14,15]))\n",
        "print(\"Tensor from array:\",tensor_from_ndarray)"
      ],
      "metadata": {
        "id": "G2R5kjNAJcNo",
        "outputId": "2886b110-6db7-44f6-d04b-a16395efd1f5",
        "colab": {
          "base_uri": "https://localhost:8080/"
        }
      },
      "execution_count": null,
      "outputs": [
        {
          "output_type": "stream",
          "name": "stdout",
          "text": [
            "Tensor from list: tensor([1, 2, 3, 4, 5])\n",
            "Tensor from tuple: tensor([ 6,  7,  8,  9, 10])\n",
            "Tensor from array: tensor([11, 12, 13, 14, 15])\n"
          ]
        }
      ]
    },
    {
      "cell_type": "markdown",
      "source": [
        "Different functions to create tensors\n",
        "\n"
      ],
      "metadata": {
        "id": "xoUGVpH7Kgz6"
      }
    },
    {
      "cell_type": "code",
      "source": [
        "tensor_emp = torch.empty(3,4)\n",
        "print(\"tensor_emp :\",tensor_emp)\n",
        "\n",
        "tensor_zeros = torch.zeros(3,4)\n",
        "print(\"tensor_zeros :\",tensor_zeros)\n",
        "\n",
        "tensor_ones= torch.ones(3,4) * 5\n",
        "print(\"tensor_ones :\",tensor_ones)"
      ],
      "metadata": {
        "id": "KTek-p16KgBI",
        "outputId": "25f3c7a6-86b6-4b54-ab1d-a129cb5aec29",
        "colab": {
          "base_uri": "https://localhost:8080/"
        }
      },
      "execution_count": null,
      "outputs": [
        {
          "output_type": "stream",
          "name": "stdout",
          "text": [
            "tensor_emp : tensor([[ 1.6096e-21,  4.3240e-41, -2.8916e+26,  3.3008e-41],\n",
            "        [ 4.4842e-44,  0.0000e+00,  1.5695e-43,  0.0000e+00],\n",
            "        [ 7.4439e-13,  3.3012e-41,  1.0000e+00,  1.0000e+00]])\n",
            "tensor_zeros : tensor([[0., 0., 0., 0.],\n",
            "        [0., 0., 0., 0.],\n",
            "        [0., 0., 0., 0.]])\n",
            "tensor_ones : tensor([[5., 5., 5., 5.],\n",
            "        [5., 5., 5., 5.],\n",
            "        [5., 5., 5., 5.]])\n"
          ]
        }
      ]
    },
    {
      "cell_type": "code",
      "source": [
        "# tensors initialized by size with random values\n",
        "# returns a tensor filled with random numbers from a uniform distribution\n",
        "tensor_rand_un = torch.rand(4,5)\n",
        "print(\"tensor_rand_un :\",tensor_rand_un)\n",
        "\n",
        "# returns a tensor filled with random numbers from a normal distribution\n",
        "tensor_rand_norm = torch.randn(5,5)\n",
        "print(\"tensor_rand_norm :\",tensor_rand_norm)\n",
        "\n",
        "# returns a tensor filled with random integers generated uniformly\n",
        "tensor_rand_int = torch.randint(5,10,(4,5))\n",
        "print(\"tensor_rand_int :\",tensor_rand_int)\n",
        "\n",
        "tensor_rand_int = torch.randint(5,6,(4,5))\n",
        "print(\"tensor_5_int :\",tensor_rand_int)\n",
        "\n",
        "# initialize a tensor of ones\n",
        "tensor_ones = torch.ones_like(tensor_rand_norm)\n",
        "print(tensor_ones)\n",
        "\n",
        "tensor_ones = torch.ones_like(tensor_rand_int)\n",
        "print(tensor_ones)"
      ],
      "metadata": {
        "id": "sXsH7b_oLDSB",
        "outputId": "dd4f0e98-2b4f-4fca-f2b2-dd95316c43c1",
        "colab": {
          "base_uri": "https://localhost:8080/"
        }
      },
      "execution_count": null,
      "outputs": [
        {
          "output_type": "stream",
          "name": "stdout",
          "text": [
            "tensor_rand_un : tensor([[0.0887, 0.8533, 0.7369, 0.5823, 0.7837],\n",
            "        [0.6593, 0.7192, 0.2959, 0.0418, 0.8420],\n",
            "        [0.3057, 0.3999, 0.4916, 0.2440, 0.4045],\n",
            "        [0.7968, 0.0334, 0.1394, 0.9232, 0.1597]])\n",
            "tensor_rand_norm : tensor([[ 0.5045,  1.6298, -0.8300,  1.6172,  0.8951],\n",
            "        [-0.4896, -1.6546,  0.2430, -0.4313, -0.0452],\n",
            "        [-0.0048,  0.2918, -0.0972,  1.6097,  0.2964],\n",
            "        [ 0.6055,  0.8849,  1.1003, -0.0145,  0.0403],\n",
            "        [-0.7452, -0.3456,  0.5348,  0.4434, -0.5615]])\n",
            "tensor_rand_int : tensor([[8, 6, 9, 6, 6],\n",
            "        [9, 6, 7, 8, 9],\n",
            "        [8, 8, 7, 8, 5],\n",
            "        [9, 6, 9, 7, 9]])\n",
            "tensor_5_int : tensor([[5, 5, 5, 5, 5],\n",
            "        [5, 5, 5, 5, 5],\n",
            "        [5, 5, 5, 5, 5],\n",
            "        [5, 5, 5, 5, 5]])\n",
            "tensor([[1., 1., 1., 1., 1.],\n",
            "        [1., 1., 1., 1., 1.],\n",
            "        [1., 1., 1., 1., 1.],\n",
            "        [1., 1., 1., 1., 1.],\n",
            "        [1., 1., 1., 1., 1.]])\n",
            "tensor([[1, 1, 1, 1, 1],\n",
            "        [1, 1, 1, 1, 1],\n",
            "        [1, 1, 1, 1, 1],\n",
            "        [1, 1, 1, 1, 1]])\n"
          ]
        }
      ]
    },
    {
      "cell_type": "markdown",
      "source": [
        "# Tensor attributes\n",
        "knowing device location, datatype, dimension, and rank is very important"
      ],
      "metadata": {
        "id": "mucxHuCL6DFl"
      }
    },
    {
      "cell_type": "code",
      "source": [
        "first_tensor = torch.tensor([1,2,3,4,5,6])"
      ],
      "metadata": {
        "id": "KvKqwt3m6H0M"
      },
      "execution_count": null,
      "outputs": []
    },
    {
      "cell_type": "markdown",
      "source": [
        "torch.device indicates the tensor’s device location"
      ],
      "metadata": {
        "id": "K8r-Atso6MHf"
      }
    },
    {
      "cell_type": "code",
      "source": [
        "first_tensor.device"
      ],
      "metadata": {
        "colab": {
          "base_uri": "https://localhost:8080/"
        },
        "id": "ikIm9oWz6M3K",
        "outputId": "98ab546f-2a8c-4451-b272-c3184859f984"
      },
      "execution_count": null,
      "outputs": [
        {
          "output_type": "execute_result",
          "data": {
            "text/plain": [
              "device(type='cpu')"
            ]
          },
          "metadata": {},
          "execution_count": 9
        }
      ]
    },
    {
      "cell_type": "markdown",
      "source": [
        "torch.dtype indicates the tensor’s data type"
      ],
      "metadata": {
        "id": "i5K0_m2G6rCe"
      }
    },
    {
      "cell_type": "code",
      "source": [
        "first_tensor.dtype"
      ],
      "metadata": {
        "colab": {
          "base_uri": "https://localhost:8080/"
        },
        "id": "ysGXRTR06rul",
        "outputId": "811dfaeb-46a5-4a88-cc6e-540f6dd3b232"
      },
      "execution_count": null,
      "outputs": [
        {
          "output_type": "execute_result",
          "data": {
            "text/plain": [
              "torch.int64"
            ]
          },
          "metadata": {},
          "execution_count": 10
        }
      ]
    },
    {
      "cell_type": "markdown",
      "source": [
        "torch.shape shows the tensor’s dimensions"
      ],
      "metadata": {
        "id": "m1mQ5gRO6wJR"
      }
    },
    {
      "cell_type": "code",
      "source": [
        "first_tensor.shape"
      ],
      "metadata": {
        "colab": {
          "base_uri": "https://localhost:8080/"
        },
        "id": "dW7AGzdq6wzk",
        "outputId": "bcf4aba7-e22c-4ad4-da23-8abda9e03b6f"
      },
      "execution_count": null,
      "outputs": [
        {
          "output_type": "execute_result",
          "data": {
            "text/plain": [
              "torch.Size([6])"
            ]
          },
          "metadata": {},
          "execution_count": 11
        }
      ]
    },
    {
      "cell_type": "markdown",
      "source": [
        "torch.ndim identifies the number of a tensor’s dimensions or rank"
      ],
      "metadata": {
        "id": "WTN3pKlY63ov"
      }
    },
    {
      "cell_type": "code",
      "source": [
        "first_tensor.ndim"
      ],
      "metadata": {
        "colab": {
          "base_uri": "https://localhost:8080/"
        },
        "id": "2QBOevYu7LcU",
        "outputId": "164a8b45-9674-49f4-faac-4198136bb4a5"
      },
      "execution_count": null,
      "outputs": [
        {
          "output_type": "execute_result",
          "data": {
            "text/plain": [
              "1"
            ]
          },
          "metadata": {},
          "execution_count": 12
        }
      ]
    },
    {
      "cell_type": "code",
      "source": [
        "second_tensor = torch.tensor([[1,2,3,4,5,6], [7,8,9,10,11,12], [13,14,15,16,17,18]])\n",
        "second_tensor.dtype"
      ],
      "metadata": {
        "colab": {
          "base_uri": "https://localhost:8080/"
        },
        "id": "DpvcQyyn7WRG",
        "outputId": "ae19e2e3-5db7-4f5d-e9b3-fb622a58076a"
      },
      "execution_count": null,
      "outputs": [
        {
          "output_type": "execute_result",
          "data": {
            "text/plain": [
              "torch.int64"
            ]
          },
          "metadata": {},
          "execution_count": 16
        }
      ]
    },
    {
      "cell_type": "code",
      "source": [
        "second_tensor.shape"
      ],
      "metadata": {
        "colab": {
          "base_uri": "https://localhost:8080/"
        },
        "id": "sUpu6bS_7sER",
        "outputId": "ce0d1f65-e74f-42b0-90df-bc6361f7122e"
      },
      "execution_count": null,
      "outputs": [
        {
          "output_type": "execute_result",
          "data": {
            "text/plain": [
              "torch.Size([3, 6])"
            ]
          },
          "metadata": {},
          "execution_count": 17
        }
      ]
    },
    {
      "cell_type": "code",
      "source": [
        "second_tensor.ndim"
      ],
      "metadata": {
        "colab": {
          "base_uri": "https://localhost:8080/"
        },
        "id": "3BwruyZI7vNW",
        "outputId": "f6319151-c708-4cd4-fed0-a7b1406a651c"
      },
      "execution_count": null,
      "outputs": [
        {
          "output_type": "execute_result",
          "data": {
            "text/plain": [
              "2"
            ]
          },
          "metadata": {},
          "execution_count": 18
        }
      ]
    },
    {
      "cell_type": "markdown",
      "source": [
        "# Tensor data types"
      ],
      "metadata": {
        "id": "x0LFELYSFjkt"
      }
    },
    {
      "cell_type": "code",
      "source": [
        "#@title Integer data type tensor\n",
        "int_tensor= torch.tensor([1,2,3,4,5],dtype=torch.int8)\n",
        "int_tensor.dtype"
      ],
      "metadata": {
        "id": "f071P0mkFnE6",
        "outputId": "35e58a38-4d83-4652-fdc2-fba8e41823d2",
        "colab": {
          "base_uri": "https://localhost:8080/"
        }
      },
      "execution_count": null,
      "outputs": [
        {
          "output_type": "execute_result",
          "data": {
            "text/plain": [
              "torch.int8"
            ]
          },
          "metadata": {},
          "execution_count": 19
        }
      ]
    },
    {
      "cell_type": "code",
      "source": [
        "#@title Float data type tensor\n",
        "float_tensor= torch.tensor([6,7,8,9,10], dtype=torch.float32)\n",
        "float_tensor.dtype"
      ],
      "metadata": {
        "id": "PgIzVjVgFoQT",
        "outputId": "9b8985f5-7c78-44e1-e172-ac0f596dc385",
        "colab": {
          "base_uri": "https://localhost:8080/"
        }
      },
      "execution_count": null,
      "outputs": [
        {
          "output_type": "execute_result",
          "data": {
            "text/plain": [
              "torch.float32"
            ]
          },
          "metadata": {},
          "execution_count": 20
        }
      ]
    },
    {
      "cell_type": "code",
      "source": [
        "#@title Short data type tensor\n",
        "short_tensor= torch.tensor([6,7,8,9,10], dtype=torch.int16)\n",
        "short_tensor.dtype"
      ],
      "metadata": {
        "id": "LJUNBhsRFuwS",
        "outputId": "5d7033d2-6681-410e-8a76-4030502639a4",
        "colab": {
          "base_uri": "https://localhost:8080/"
        }
      },
      "execution_count": null,
      "outputs": [
        {
          "output_type": "execute_result",
          "data": {
            "text/plain": [
              "torch.int16"
            ]
          },
          "metadata": {},
          "execution_count": 21
        }
      ]
    },
    {
      "cell_type": "code",
      "source": [
        "#@title Casting a tensor to a new data type (1st way)\n",
        "int_tensor= int_tensor.float()\n",
        "int_tensor.dtype"
      ],
      "metadata": {
        "id": "DhZ8qA1RFw6p",
        "outputId": "8301896e-cacc-42e3-9338-8c19edc1e64d",
        "colab": {
          "base_uri": "https://localhost:8080/"
        }
      },
      "execution_count": null,
      "outputs": [
        {
          "output_type": "execute_result",
          "data": {
            "text/plain": [
              "torch.float32"
            ]
          },
          "metadata": {},
          "execution_count": 22
        }
      ]
    },
    {
      "cell_type": "code",
      "source": [
        "#@title Casting a tensor to a new data type (2nd way)\n",
        "last_tensor = short_tensor.to(dtype=torch.int8)\n",
        "last_tensor.dtype"
      ],
      "metadata": {
        "id": "R-3cG6WJFzFK",
        "outputId": "7ec96031-a7d0-4838-bbde-a9ccec279122",
        "colab": {
          "base_uri": "https://localhost:8080/"
        }
      },
      "execution_count": null,
      "outputs": [
        {
          "output_type": "execute_result",
          "data": {
            "text/plain": [
              "torch.int8"
            ]
          },
          "metadata": {},
          "execution_count": 23
        }
      ]
    },
    {
      "cell_type": "markdown",
      "source": [
        "# Creating tensors from random samples"
      ],
      "metadata": {
        "id": "SfV_4f4qHl8h"
      }
    },
    {
      "cell_type": "code",
      "source": [
        "#@title torch.rand() selects random values from a uniform distribution on the interval [0-1]\n",
        "torch.manual_seed(111) #  this helps control the randomness and make the results deterministic and reproducible.Setting the seed is crucial if you want your model training process to be consistent.\n",
        "ten1 = torch.rand(3, 3)\n",
        "\n",
        "# Random tensor initialization\n",
        "tensor1 = torch.randn(3) #uniform distribution `randn`\n",
        "tensor2 = torch.randn(3)\n",
        "\n",
        "print(ten1)\n",
        "print(tensor1)\n",
        "print(tensor2)"
      ],
      "metadata": {
        "id": "tfmjpV_gHo-B",
        "outputId": "2f189ff8-67c3-4745-f525-a299089a3ace",
        "colab": {
          "base_uri": "https://localhost:8080/"
        }
      },
      "execution_count": null,
      "outputs": [
        {
          "output_type": "stream",
          "name": "stdout",
          "text": [
            "tensor([[0.7156, 0.9140, 0.2819],\n",
            "        [0.2581, 0.6311, 0.6001],\n",
            "        [0.9312, 0.2153, 0.6033]])\n",
            "tensor([ 0.2657, -0.3120, -0.2888])\n",
            "tensor([ 0.7697, -0.0359, -0.3874])\n"
          ]
        }
      ]
    },
    {
      "cell_type": "code",
      "source": [
        "#@title torch.rand() selects random values from a standard normal distribution\n",
        "\n",
        "torch.rand(4,4) #normal distribution `rand`"
      ],
      "metadata": {
        "id": "oEw-YvOCHsyd",
        "outputId": "993a40ba-8be7-495d-9d49-0ecb512d1da2",
        "colab": {
          "base_uri": "https://localhost:8080/"
        }
      },
      "execution_count": null,
      "outputs": [
        {
          "output_type": "execute_result",
          "data": {
            "text/plain": [
              "tensor([[0.6334, 0.8580, 0.1572, 0.7853],\n",
              "        [0.1458, 0.4177, 0.3047, 0.0382],\n",
              "        [0.5805, 0.2089, 0.3964, 0.3527],\n",
              "        [0.5514, 0.3021, 0.8046, 0.9331]])"
            ]
          },
          "metadata": {},
          "execution_count": 47
        }
      ]
    },
    {
      "cell_type": "code",
      "source": [
        "#@title torch.randint() selects random integers generated uniformly between specified low and high values\n",
        "\n",
        "torch.randint(-1, 10, (3, 3))"
      ],
      "metadata": {
        "id": "njlgv7HjHuwn",
        "outputId": "024f3462-169b-4fcf-c009-3b9f3394d52d",
        "colab": {
          "base_uri": "https://localhost:8080/"
        }
      },
      "execution_count": null,
      "outputs": [
        {
          "output_type": "execute_result",
          "data": {
            "text/plain": [
              "tensor([[ 2,  3,  4],\n",
              "        [ 3,  8,  9],\n",
              "        [ 8, -1,  3]])"
            ]
          },
          "metadata": {},
          "execution_count": 57
        }
      ]
    },
    {
      "cell_type": "markdown",
      "source": [
        "Creating tensors like other tensors"
      ],
      "metadata": {
        "id": "vVjEIA9tLZrK"
      }
    },
    {
      "cell_type": "code",
      "source": [
        "#@title Create a tensor of shape (2, 5) filled with ones\n",
        "starting_tensor = torch.zeros(2,5)\n",
        "starting_tensor"
      ],
      "metadata": {
        "id": "QjccyR4ILacG",
        "outputId": "8053e69e-d840-4d87-9630-dad81998438f",
        "colab": {
          "base_uri": "https://localhost:8080/"
        }
      },
      "execution_count": null,
      "outputs": [
        {
          "output_type": "execute_result",
          "data": {
            "text/plain": [
              "tensor([[0., 0., 0., 0., 0.],\n",
              "        [0., 0., 0., 0., 0.]])"
            ]
          },
          "metadata": {},
          "execution_count": 58
        }
      ]
    },
    {
      "cell_type": "code",
      "source": [
        "#@title Create a tensor with the same size filled with random numbers\n",
        "torch.manual_seed(111)\n",
        "rand_tensor=torch.rand_like(starting_tensor)\n",
        "rand_tensor"
      ],
      "metadata": {
        "id": "1r11lSAqLguT",
        "outputId": "4c36b567-7677-4f51-f7f4-cf47688a60af",
        "colab": {
          "base_uri": "https://localhost:8080/"
        }
      },
      "execution_count": null,
      "outputs": [
        {
          "output_type": "execute_result",
          "data": {
            "text/plain": [
              "tensor([[0.7156, 0.9140, 0.2819, 0.2581, 0.6311],\n",
              "        [0.6001, 0.9312, 0.2153, 0.6033, 0.7328]])"
            ]
          },
          "metadata": {},
          "execution_count": 60
        }
      ]
    },
    {
      "cell_type": "code",
      "source": [
        "#@title Create a tensor with the same shape filled with ones\n",
        "torch.ones_like(rand_tensor)"
      ],
      "metadata": {
        "id": "Q63AL8RWLm9i",
        "outputId": "bb6a38b0-fb7d-452a-cc83-b734b745e93c",
        "colab": {
          "base_uri": "https://localhost:8080/"
        }
      },
      "execution_count": null,
      "outputs": [
        {
          "output_type": "execute_result",
          "data": {
            "text/plain": [
              "tensor([[1., 1., 1., 1., 1.],\n",
              "        [1., 1., 1., 1., 1.]])"
            ]
          },
          "metadata": {},
          "execution_count": 61
        }
      ]
    },
    {
      "cell_type": "code",
      "source": [
        "#@title Create a tensor with the same shape filled with provided value\n",
        "torch.full_like(starting_tensor,7)"
      ],
      "metadata": {
        "id": "89OsdrZ9Lr4F",
        "outputId": "8d27c6bb-ce1b-448c-8d4e-c0c14bf5bb8e",
        "colab": {
          "base_uri": "https://localhost:8080/"
        }
      },
      "execution_count": null,
      "outputs": [
        {
          "output_type": "execute_result",
          "data": {
            "text/plain": [
              "tensor([[7., 7., 7., 7., 7.],\n",
              "        [7., 7., 7., 7., 7.]])"
            ]
          },
          "metadata": {},
          "execution_count": 62
        }
      ]
    },
    {
      "cell_type": "code",
      "source": [
        "#@title Create a tensor of shape (2, 5) filled with zeros\n",
        "starting_tensor = torch.zeros(2,5)\n",
        "starting_tensor"
      ],
      "metadata": {
        "id": "rnYLO_azP1Fj",
        "outputId": "a88fa331-2c85-47b3-ba00-428da5c1bf24",
        "colab": {
          "base_uri": "https://localhost:8080/"
        }
      },
      "execution_count": null,
      "outputs": [
        {
          "output_type": "execute_result",
          "data": {
            "text/plain": [
              "tensor([[0., 0., 0., 0., 0.],\n",
              "        [0., 0., 0., 0., 0.]])"
            ]
          },
          "metadata": {},
          "execution_count": 67
        }
      ]
    },
    {
      "cell_type": "code",
      "source": [
        "#@title Create a tensor with the same size filled with random numbers\n",
        "torch.manual_seed(111)\n",
        "rand_tensor=torch.rand_like(starting_tensor)\n",
        "rand_tensor"
      ],
      "metadata": {
        "id": "Opqw2j9KP029",
        "outputId": "c0aa0ea2-a64a-4635-daff-ef5fa49bedac",
        "colab": {
          "base_uri": "https://localhost:8080/"
        }
      },
      "execution_count": null,
      "outputs": [
        {
          "output_type": "execute_result",
          "data": {
            "text/plain": [
              "tensor([[0.7156, 0.9140, 0.2819, 0.2581, 0.6311],\n",
              "        [0.6001, 0.9312, 0.2153, 0.6033, 0.7328]])"
            ]
          },
          "metadata": {},
          "execution_count": 70
        }
      ]
    },
    {
      "cell_type": "code",
      "source": [
        "#@title Create a tensor with the same shape filled with ones\n",
        "torch.ones_like(rand_tensor)"
      ],
      "metadata": {
        "id": "2Tz_2ZoUP6dr",
        "outputId": "c393a6bc-656c-4d1e-b4da-09e2c7e183cc",
        "colab": {
          "base_uri": "https://localhost:8080/"
        }
      },
      "execution_count": null,
      "outputs": [
        {
          "output_type": "execute_result",
          "data": {
            "text/plain": [
              "tensor([[1., 1., 1., 1., 1.],\n",
              "        [1., 1., 1., 1., 1.]])"
            ]
          },
          "metadata": {},
          "execution_count": 71
        }
      ]
    },
    {
      "cell_type": "code",
      "source": [
        "#@title Create a tensor with the same shape filled with provided value\n",
        "torch.full_like(starting_tensor,7)"
      ],
      "metadata": {
        "id": "bU0xt0dzP8on",
        "outputId": "0c2ca69b-8b5a-423c-d528-fdd3398622d9",
        "colab": {
          "base_uri": "https://localhost:8080/"
        }
      },
      "execution_count": null,
      "outputs": [
        {
          "output_type": "execute_result",
          "data": {
            "text/plain": [
              "tensor([[7., 7., 7., 7., 7.],\n",
              "        [7., 7., 7., 7., 7.]])"
            ]
          },
          "metadata": {},
          "execution_count": 83
        }
      ]
    },
    {
      "cell_type": "markdown",
      "source": [
        "# Tensor operations"
      ],
      "metadata": {
        "id": "IbWv4keIe5Vs"
      }
    },
    {
      "cell_type": "code",
      "source": [
        "#@title Indexing 1-dim tensor example\n",
        "one_dim_tensor=torch.tensor([1,2,3,4,5,6])\n",
        "print(one_dim_tensor[2])\n",
        "print(one_dim_tensor[2].item())"
      ],
      "metadata": {
        "id": "ixdZ8w7Ve6bm",
        "outputId": "2c9c8187-30ad-4264-a7cc-d91899465046",
        "colab": {
          "base_uri": "https://localhost:8080/"
        }
      },
      "execution_count": 25,
      "outputs": [
        {
          "output_type": "stream",
          "name": "stdout",
          "text": [
            "tensor(3)\n",
            "3\n"
          ]
        }
      ]
    },
    {
      "cell_type": "code",
      "source": [
        "#@title Slicing 1-dim tensor example\n",
        "# [start:end:step]\n",
        "one_dim_tensor[1:4]"
      ],
      "metadata": {
        "id": "kpm7s8Ske9xu",
        "outputId": "955e9e91-c358-464a-a95e-33f2140ce213",
        "colab": {
          "base_uri": "https://localhost:8080/"
        }
      },
      "execution_count": 3,
      "outputs": [
        {
          "output_type": "execute_result",
          "data": {
            "text/plain": [
              "tensor([2, 3, 4])"
            ]
          },
          "metadata": {},
          "execution_count": 3
        }
      ]
    },
    {
      "cell_type": "code",
      "source": [
        "#@title Indexing 2-dim tensor example\n",
        "two_dim_tensor=torch.tensor([[1,2,3,4,5,6],[7,8,9,10,11,12],[13,14,15,16,17,18],[19,20,21,22,23,24]])\n",
        "two_dim_tensor[2][5]"
      ],
      "metadata": {
        "id": "MTvfOD7mfAz_",
        "outputId": "a221ab1c-62ea-4b0c-93d2-d4246f980722",
        "colab": {
          "base_uri": "https://localhost:8080/"
        }
      },
      "execution_count": 7,
      "outputs": [
        {
          "output_type": "execute_result",
          "data": {
            "text/plain": [
              "tensor(18)"
            ]
          },
          "metadata": {},
          "execution_count": 7
        }
      ]
    },
    {
      "cell_type": "code",
      "source": [
        "#@title Slicing 2-dim tensor example\n",
        "print(\"first three elements of the 1st row: \",two_dim_tensor[0, 0:7])\n",
        "print(\"first four elements of the 2nd row: \",two_dim_tensor[1,0:4])"
      ],
      "metadata": {
        "id": "_9fbw7AjfCtM",
        "outputId": "47aa8a3e-30b3-416b-b39e-d4e196d61bbe",
        "colab": {
          "base_uri": "https://localhost:8080/"
        }
      },
      "execution_count": 10,
      "outputs": [
        {
          "output_type": "stream",
          "name": "stdout",
          "text": [
            "first three elements of the 1st row:  tensor([1, 2, 3, 4, 5, 6])\n",
            "first four elements of the 2nd row:  tensor([ 7,  8,  9, 10])\n"
          ]
        }
      ]
    },
    {
      "cell_type": "code",
      "source": [
        "#@title Use indexing to extract the data that meets some criteria\n",
        "two_dim_tensor[(two_dim_tensor % 4) <= 1]"
      ],
      "metadata": {
        "id": "EDpjCjirfFbm",
        "outputId": "14b10cb9-4296-416b-c119-1150677f81c5",
        "colab": {
          "base_uri": "https://localhost:8080/"
        }
      },
      "execution_count": 21,
      "outputs": [
        {
          "output_type": "execute_result",
          "data": {
            "text/plain": [
              "tensor([ 1,  4,  5,  8,  9, 12, 13, 16, 17, 20, 21, 24])"
            ]
          },
          "metadata": {},
          "execution_count": 21
        }
      ]
    },
    {
      "cell_type": "code",
      "source": [
        "#@title Combining tensors\n",
        "second_tensor = torch.stack((one_dim_tensor, torch.flip(one_dim_tensor, dims=[0]),one_dim_tensor, torch.flip(one_dim_tensor, dims=[0])))\n",
        "rev = torch.flip(two_dim_tensor, dims=[1])\n",
        "torch.stack((rev , second_tensor,two_dim_tensor))"
      ],
      "metadata": {
        "id": "0jp1LfojfHS1",
        "outputId": "56d9832f-c719-4b4f-fd1f-49b2c00a2528",
        "colab": {
          "base_uri": "https://localhost:8080/"
        }
      },
      "execution_count": 48,
      "outputs": [
        {
          "output_type": "execute_result",
          "data": {
            "text/plain": [
              "tensor([[[ 6,  5,  4,  3,  2,  1],\n",
              "         [12, 11, 10,  9,  8,  7],\n",
              "         [18, 17, 16, 15, 14, 13],\n",
              "         [24, 23, 22, 21, 20, 19]],\n",
              "\n",
              "        [[ 1,  2,  3,  4,  5,  6],\n",
              "         [ 6,  5,  4,  3,  2,  1],\n",
              "         [ 1,  2,  3,  4,  5,  6],\n",
              "         [ 6,  5,  4,  3,  2,  1]],\n",
              "\n",
              "        [[ 1,  2,  3,  4,  5,  6],\n",
              "         [ 7,  8,  9, 10, 11, 12],\n",
              "         [13, 14, 15, 16, 17, 18],\n",
              "         [19, 20, 21, 22, 23, 24]]])"
            ]
          },
          "metadata": {},
          "execution_count": 48
        }
      ]
    },
    {
      "cell_type": "code",
      "source": [
        "#@title Splitting tensors\n",
        "first_tensor, second_tensor, third_tensor, fourth_tensor=torch.unbind(two_dim_tensor)\n",
        "print(first_tensor, second_tensor, third_tensor, fourth_tensor)"
      ],
      "metadata": {
        "id": "FWXpnkR2fI-1",
        "outputId": "3ca28c81-80a5-411a-f71b-0a4ec588bea7",
        "colab": {
          "base_uri": "https://localhost:8080/"
        }
      },
      "execution_count": 49,
      "outputs": [
        {
          "output_type": "stream",
          "name": "stdout",
          "text": [
            "tensor([1, 2, 3, 4, 5, 6]) tensor([ 7,  8,  9, 10, 11, 12]) tensor([13, 14, 15, 16, 17, 18]) tensor([19, 20, 21, 22, 23, 24])\n"
          ]
        }
      ]
    },
    {
      "cell_type": "code",
      "source": [
        "#@title Splitting 2-dim tensor\n",
        "torch.unbind(two_dim_tensor,dim=1)"
      ],
      "metadata": {
        "id": "xEf7Jg_CfLiB",
        "outputId": "f879714c-fb7d-4038-dd69-63dc9bb40623",
        "colab": {
          "base_uri": "https://localhost:8080/"
        }
      },
      "execution_count": 58,
      "outputs": [
        {
          "output_type": "execute_result",
          "data": {
            "text/plain": [
              "(tensor([ 1,  7, 13, 19]),\n",
              " tensor([ 2,  8, 14, 20]),\n",
              " tensor([ 3,  9, 15, 21]),\n",
              " tensor([ 4, 10, 16, 22]),\n",
              " tensor([ 5, 11, 17, 23]),\n",
              " tensor([ 6, 12, 18, 24]))"
            ]
          },
          "metadata": {},
          "execution_count": 58
        }
      ]
    }
  ],
  "metadata": {
    "colab": {
      "name": "Welcome To Colab",
      "toc_visible": true,
      "provenance": [],
      "gpuType": "T4",
      "include_colab_link": true
    },
    "kernelspec": {
      "display_name": "Python 3",
      "name": "python3"
    },
    "accelerator": "GPU"
  },
  "nbformat": 4,
  "nbformat_minor": 0
}