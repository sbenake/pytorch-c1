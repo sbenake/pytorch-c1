{
  "cells": [
    {
      "cell_type": "markdown",
      "metadata": {
        "id": "view-in-github",
        "colab_type": "text"
      },
      "source": [
        "<a href=\"https://colab.research.google.com/github/sbenake/pytorch-c1/blob/main/intro.ipynb\" target=\"_parent\"><img src=\"https://colab.research.google.com/assets/colab-badge.svg\" alt=\"Open In Colab\"/></a>"
      ]
    },
    {
      "cell_type": "markdown",
      "source": [
        "# Intro to Pytorch"
      ],
      "metadata": {
        "id": "YaRIP_2isKFD"
      }
    },
    {
      "cell_type": "code",
      "source": [
        "import torch\n",
        "\n",
        "print(torch.__version__)\n",
        "print(torch.cuda.is_available())"
      ],
      "metadata": {
        "id": "RVJvB26ts4sQ",
        "outputId": "58e85807-1001-4b6f-fc68-651e5ef07977",
        "colab": {
          "base_uri": "https://localhost:8080/"
        }
      },
      "execution_count": 1,
      "outputs": [
        {
          "output_type": "stream",
          "name": "stdout",
          "text": [
            "2.5.0+cu121\n",
            "True\n"
          ]
        }
      ]
    },
    {
      "cell_type": "code",
      "source": [
        "first_tens = torch. tensor ([[12,10,11,9], [13,15,14,0]])\n",
        "second_tens = torch. tensor([[1,2,3,4], [5,6,7,8]])\n",
        "add_tens = first_tens + second_tens\n",
        "sub_tens = first_tens - second_tens\n",
        "mul_tens = first_tens * second_tens\n",
        "div_tens = first_tens / second_tens\n",
        "print (add_tens)\n",
        "print (sub_tens)\n",
        "print (mul_tens)\n",
        "print (div_tens)\n",
        "print (add_tens.size())"
      ],
      "metadata": {
        "colab": {
          "base_uri": "https://localhost:8080/"
        },
        "id": "WQEe0h_JC3Oe",
        "outputId": "76b8832e-40ff-4255-ee27-18de36565ba8"
      },
      "execution_count": 2,
      "outputs": [
        {
          "output_type": "stream",
          "name": "stdout",
          "text": [
            "tensor([[13, 12, 14, 13],\n",
            "        [18, 21, 21,  8]])\n",
            "tensor([[11,  8,  8,  5],\n",
            "        [ 8,  9,  7, -8]])\n",
            "tensor([[12, 20, 33, 36],\n",
            "        [65, 90, 98,  0]])\n",
            "tensor([[12.0000,  5.0000,  3.6667,  2.2500],\n",
            "        [ 2.6000,  2.5000,  2.0000,  0.0000]])\n",
            "torch.Size([2, 4])\n"
          ]
        }
      ]
    },
    {
      "cell_type": "code",
      "source": [
        "if torch.cuda.is_available(): device = torch.device(\"cuda\")\n",
        "else: device = torch.device(\"cpu\")\n",
        "print (device)"
      ],
      "metadata": {
        "id": "BfYjjxxQERnE",
        "outputId": "01979e10-bd28-4836-b55b-4cbbf90581d5",
        "colab": {
          "base_uri": "https://localhost:8080/"
        }
      },
      "execution_count": 3,
      "outputs": [
        {
          "output_type": "stream",
          "name": "stdout",
          "text": [
            "cuda\n"
          ]
        }
      ]
    },
    {
      "cell_type": "code",
      "source": [
        "tens_1 = torch. tensor ([[12,10,11,9], [13,15,14,16]],device=device)\n",
        "tens_2 = torch. tensor([[1,2,3,4], [5,6,7,8]],device=device)\n",
        "multi_tens = tens_1 * tens_2\n",
        "print (multi_tens)"
      ],
      "metadata": {
        "colab": {
          "base_uri": "https://localhost:8080/"
        },
        "outputId": "507b31fa-6e5e-41bf-ace1-5ad93d466751",
        "id": "2HmRPunQEjo5"
      },
      "execution_count": 4,
      "outputs": [
        {
          "output_type": "stream",
          "name": "stdout",
          "text": [
            "tensor([[ 12,  20,  33,  36],\n",
            "        [ 65,  90,  98, 128]], device='cuda:0')\n"
          ]
        }
      ]
    },
    {
      "cell_type": "markdown",
      "source": [
        "# Different ways to create Tensors\n",
        "https://pytorch.org/docs/stable/torch.html"
      ],
      "metadata": {
        "id": "hYz333reJQxH"
      }
    },
    {
      "cell_type": "code",
      "source": [
        "import numpy as np\n",
        "\n",
        "# initialize a tensor from a Python list\n",
        "tensor_from_list=torch.tensor([1,2,3,4,5])\n",
        "# initialize a tensor from a tuple, tuples are immutable\n",
        "tensor_from_tuple=torch.tensor((6,7,8,9,10))\n",
        "print(\"Tensor from list:\",tensor_from_list)\n",
        "print(\"Tensor from tuple:\",tensor_from_tuple)\n",
        "\n",
        "# initialize a tensor from a ndarray\n",
        "tensor_from_ndarray=torch.tensor(np.array([11,12,13,14,15]))\n",
        "print(\"Tensor from array:\",tensor_from_ndarray)"
      ],
      "metadata": {
        "id": "G2R5kjNAJcNo",
        "outputId": "2886b110-6db7-44f6-d04b-a16395efd1f5",
        "colab": {
          "base_uri": "https://localhost:8080/"
        }
      },
      "execution_count": 5,
      "outputs": [
        {
          "output_type": "stream",
          "name": "stdout",
          "text": [
            "Tensor from list: tensor([1, 2, 3, 4, 5])\n",
            "Tensor from tuple: tensor([ 6,  7,  8,  9, 10])\n",
            "Tensor from array: tensor([11, 12, 13, 14, 15])\n"
          ]
        }
      ]
    },
    {
      "cell_type": "markdown",
      "source": [
        "Different functions to create tensors\n",
        "\n"
      ],
      "metadata": {
        "id": "xoUGVpH7Kgz6"
      }
    },
    {
      "cell_type": "code",
      "source": [
        "tensor_emp = torch.empty(3,4)\n",
        "print(\"tensor_emp :\",tensor_emp)\n",
        "\n",
        "tensor_zeros = torch.zeros(3,4)\n",
        "print(\"tensor_zeros :\",tensor_zeros)\n",
        "\n",
        "tensor_ones= torch.ones(3,4)\n",
        "print(\"tensor_ones :\",tensor_ones)"
      ],
      "metadata": {
        "id": "KTek-p16KgBI",
        "outputId": "4f953e34-94a7-484c-d642-ace3f870b801",
        "colab": {
          "base_uri": "https://localhost:8080/"
        }
      },
      "execution_count": 6,
      "outputs": [
        {
          "output_type": "stream",
          "name": "stdout",
          "text": [
            "tensor_emp : tensor([[ 3.3631e-44,  0.0000e+00, -1.4383e+17,  4.4215e-41],\n",
            "        [ 1.4013e-45,  0.0000e+00,  5.7925e-31,  3.1697e-41],\n",
            "        [ 2.8026e-45,  0.0000e+00,  2.8026e-45,  7.0065e-45]])\n",
            "tensor_zeros : tensor([[0., 0., 0., 0.],\n",
            "        [0., 0., 0., 0.],\n",
            "        [0., 0., 0., 0.]])\n",
            "tensor_ones : tensor([[1., 1., 1., 1.],\n",
            "        [1., 1., 1., 1.],\n",
            "        [1., 1., 1., 1.]])\n"
          ]
        }
      ]
    },
    {
      "cell_type": "code",
      "source": [
        "# tensors initialized by size with random values\n",
        "# returns a tensor filled with random numbers from a uniform distribution\n",
        "tensor_rand_un = torch.rand(4,5)\n",
        "print(\"tensor_rand_un :\",tensor_rand_un)\n",
        "\n",
        "# returns a tensor filled with random numbers from a normal distribution\n",
        "tensor_rand_norm = torch.randn(5,5)\n",
        "print(\"tensor_rand_norm :\",tensor_rand_norm)\n",
        "\n",
        "# returns a tensor filled with random integers generated uniformly\n",
        "tensor_rand_int = torch.randint(5,10,(4,5))\n",
        "print(\"tensor_rand_int :\",tensor_rand_int)\n",
        "\n",
        "# initialize a tensor of ones\n",
        "tensor_ones = torch.ones_like(tensor_rand_norm)\n",
        "print(tensor_ones)\n",
        "\n",
        "tensor_ones = torch.ones_like(tensor_rand_int)\n",
        "print(tensor_ones)"
      ],
      "metadata": {
        "id": "sXsH7b_oLDSB",
        "outputId": "2505ed77-d304-49ed-ec23-2ce799c4219e",
        "colab": {
          "base_uri": "https://localhost:8080/"
        }
      },
      "execution_count": 7,
      "outputs": [
        {
          "output_type": "stream",
          "name": "stdout",
          "text": [
            "tensor_rand_un : tensor([[0.0361, 0.1833, 0.0952, 0.9776, 0.9836],\n",
            "        [0.4316, 0.3876, 0.0739, 0.8162, 0.8940],\n",
            "        [0.7197, 0.5075, 0.4959, 0.9978, 0.4268],\n",
            "        [0.3947, 0.0704, 0.3481, 0.5510, 0.1301]])\n",
            "tensor_rand_norm : tensor([[ 0.8262, -1.0000,  1.9214,  0.2402,  0.8916],\n",
            "        [-1.3864,  0.0909,  0.4661,  0.4734, -0.8716],\n",
            "        [-0.7072,  1.1988, -0.8767,  0.0644, -0.5230],\n",
            "        [ 0.1171,  0.3593, -1.6753, -1.4443,  0.4162],\n",
            "        [-1.8215,  0.1238,  1.4954,  0.2949,  0.8308]])\n",
            "tensor_rand_int : tensor([[7, 9, 7, 9, 5],\n",
            "        [7, 5, 8, 9, 9],\n",
            "        [8, 8, 9, 6, 7],\n",
            "        [7, 7, 5, 9, 5]])\n",
            "tensor([[1., 1., 1., 1., 1.],\n",
            "        [1., 1., 1., 1., 1.],\n",
            "        [1., 1., 1., 1., 1.],\n",
            "        [1., 1., 1., 1., 1.],\n",
            "        [1., 1., 1., 1., 1.]])\n",
            "tensor([[1, 1, 1, 1, 1],\n",
            "        [1, 1, 1, 1, 1],\n",
            "        [1, 1, 1, 1, 1],\n",
            "        [1, 1, 1, 1, 1]])\n"
          ]
        }
      ]
    },
    {
      "cell_type": "markdown",
      "source": [
        "# Tensor attributes\n",
        "knowing device location, datatype, dimension, and rank is very important"
      ],
      "metadata": {
        "id": "mucxHuCL6DFl"
      }
    },
    {
      "cell_type": "code",
      "source": [
        "first_tensor = torch.tensor([1,2,3,4,5,6])"
      ],
      "metadata": {
        "id": "KvKqwt3m6H0M"
      },
      "execution_count": 8,
      "outputs": []
    },
    {
      "cell_type": "markdown",
      "source": [
        "torch.device indicates the tensor’s device location"
      ],
      "metadata": {
        "id": "K8r-Atso6MHf"
      }
    },
    {
      "cell_type": "code",
      "source": [
        "first_tensor.device"
      ],
      "metadata": {
        "colab": {
          "base_uri": "https://localhost:8080/"
        },
        "id": "ikIm9oWz6M3K",
        "outputId": "98ab546f-2a8c-4451-b272-c3184859f984"
      },
      "execution_count": 9,
      "outputs": [
        {
          "output_type": "execute_result",
          "data": {
            "text/plain": [
              "device(type='cpu')"
            ]
          },
          "metadata": {},
          "execution_count": 9
        }
      ]
    },
    {
      "cell_type": "markdown",
      "source": [
        "torch.dtype indicates the tensor’s data type"
      ],
      "metadata": {
        "id": "i5K0_m2G6rCe"
      }
    },
    {
      "cell_type": "code",
      "source": [
        "first_tensor.dtype"
      ],
      "metadata": {
        "id": "ysGXRTR06rul",
        "outputId": "811dfaeb-46a5-4a88-cc6e-540f6dd3b232",
        "colab": {
          "base_uri": "https://localhost:8080/"
        }
      },
      "execution_count": 10,
      "outputs": [
        {
          "output_type": "execute_result",
          "data": {
            "text/plain": [
              "torch.int64"
            ]
          },
          "metadata": {},
          "execution_count": 10
        }
      ]
    },
    {
      "cell_type": "markdown",
      "source": [
        "torch.shape shows the tensor’s dimensions"
      ],
      "metadata": {
        "id": "m1mQ5gRO6wJR"
      }
    },
    {
      "cell_type": "code",
      "source": [
        "first_tensor.shape"
      ],
      "metadata": {
        "id": "dW7AGzdq6wzk",
        "outputId": "bcf4aba7-e22c-4ad4-da23-8abda9e03b6f",
        "colab": {
          "base_uri": "https://localhost:8080/"
        }
      },
      "execution_count": 11,
      "outputs": [
        {
          "output_type": "execute_result",
          "data": {
            "text/plain": [
              "torch.Size([6])"
            ]
          },
          "metadata": {},
          "execution_count": 11
        }
      ]
    },
    {
      "cell_type": "markdown",
      "source": [
        "torch.ndim identifies the number of a tensor’s dimensions or rank"
      ],
      "metadata": {
        "id": "WTN3pKlY63ov"
      }
    },
    {
      "cell_type": "code",
      "source": [
        "first_tensor.ndim"
      ],
      "metadata": {
        "id": "2QBOevYu7LcU",
        "outputId": "164a8b45-9674-49f4-faac-4198136bb4a5",
        "colab": {
          "base_uri": "https://localhost:8080/"
        }
      },
      "execution_count": 12,
      "outputs": [
        {
          "output_type": "execute_result",
          "data": {
            "text/plain": [
              "1"
            ]
          },
          "metadata": {},
          "execution_count": 12
        }
      ]
    },
    {
      "cell_type": "code",
      "source": [
        "second_tensor = torch.tensor([[1,2,3,4,5,6], [7,8,9,10,11,12], [13,14,15,16,17,18]])\n",
        "second_tensor.dtype"
      ],
      "metadata": {
        "id": "DpvcQyyn7WRG",
        "outputId": "ae19e2e3-5db7-4f5d-e9b3-fb622a58076a",
        "colab": {
          "base_uri": "https://localhost:8080/"
        }
      },
      "execution_count": 16,
      "outputs": [
        {
          "output_type": "execute_result",
          "data": {
            "text/plain": [
              "torch.int64"
            ]
          },
          "metadata": {},
          "execution_count": 16
        }
      ]
    },
    {
      "cell_type": "code",
      "source": [
        "second_tensor.shape"
      ],
      "metadata": {
        "id": "sUpu6bS_7sER",
        "outputId": "ce0d1f65-e74f-42b0-90df-bc6361f7122e",
        "colab": {
          "base_uri": "https://localhost:8080/"
        }
      },
      "execution_count": 17,
      "outputs": [
        {
          "output_type": "execute_result",
          "data": {
            "text/plain": [
              "torch.Size([3, 6])"
            ]
          },
          "metadata": {},
          "execution_count": 17
        }
      ]
    },
    {
      "cell_type": "code",
      "source": [
        "second_tensor.ndim"
      ],
      "metadata": {
        "id": "3BwruyZI7vNW",
        "outputId": "f6319151-c708-4cd4-fed0-a7b1406a651c",
        "colab": {
          "base_uri": "https://localhost:8080/"
        }
      },
      "execution_count": 18,
      "outputs": [
        {
          "output_type": "execute_result",
          "data": {
            "text/plain": [
              "2"
            ]
          },
          "metadata": {},
          "execution_count": 18
        }
      ]
    }
  ],
  "metadata": {
    "colab": {
      "name": "Welcome To Colab",
      "toc_visible": true,
      "provenance": [],
      "gpuType": "T4",
      "include_colab_link": true
    },
    "kernelspec": {
      "display_name": "Python 3",
      "name": "python3"
    },
    "accelerator": "GPU"
  },
  "nbformat": 4,
  "nbformat_minor": 0
}
{"nbformat":4,"nbformat_minor":0,"metadata":{"colab":{"provenance":[{"file_id":"1O7-kxfuX20w9Qh3B-Rdzs9ZpO8ERrsJ0","timestamp":1708106572187}],"authorship_tag":"ABX9TyOH83GqLyyjoqXFlcohU2f2"},"kernelspec":{"name":"python3","display_name":"Python 3"},"language_info":{"name":"python"}},"cells":[{"cell_type":"markdown","source":["### Tensor data types"],"metadata":{"id":"zuF3OhhtX2z5"}},{"cell_type":"code","source":["import torch"],"metadata":{"id":"CwMoTk95IQqu"},"execution_count":null,"outputs":[]},{"cell_type":"code","source":["#@title Integer data type tensor\n","int_tensor= torch.tensor([1,2,3,4,5],dtype=torch.int8)\n","int_tensor.dtype"],"metadata":{"colab":{"base_uri":"https://localhost:8080/"},"id":"P_C8BGobIslX","executionInfo":{"status":"ok","timestamp":1708107452937,"user_tz":-60,"elapsed":253,"user":{"displayName":"Terezija Semenski","userId":"11306909145050492588"}},"outputId":"4912493f-1fbb-4956-f666-4aeb129a3e6c"},"execution_count":null,"outputs":[{"output_type":"execute_result","data":{"text/plain":["torch.int8"]},"metadata":{},"execution_count":2}]},{"cell_type":"code","source":["#@title Float data type tensor\n","float_tensor= torch.tensor([6,7,8,9,10], dtype=torch.float32)\n","float_tensor.dtype"],"metadata":{"colab":{"base_uri":"https://localhost:8080/"},"id":"Knc8eUAKS2uv","executionInfo":{"status":"ok","timestamp":1708107472332,"user_tz":-60,"elapsed":252,"user":{"displayName":"Terezija Semenski","userId":"11306909145050492588"}},"outputId":"f21a98e8-32a3-44c8-9973-4cb10586a251"},"execution_count":null,"outputs":[{"output_type":"execute_result","data":{"text/plain":["torch.float32"]},"metadata":{},"execution_count":3}]},{"cell_type":"code","source":["#@title Short data type tensor\n","short_tensor= torch.tensor([6,7,8,9,10], dtype=torch.int16)\n","short_tensor.dtype"],"metadata":{"colab":{"base_uri":"https://localhost:8080/"},"id":"6CvQrnZvUIr0","executionInfo":{"status":"ok","timestamp":1708107550843,"user_tz":-60,"elapsed":280,"user":{"displayName":"Terezija Semenski","userId":"11306909145050492588"}},"outputId":"0aa9a62c-d82c-4df3-8b06-95e457558098"},"execution_count":null,"outputs":[{"output_type":"execute_result","data":{"text/plain":["torch.int16"]},"metadata":{},"execution_count":4}]},{"cell_type":"code","source":["#@title Casting a tensor to a new data type (1st way)\n","int_tensor= int_tensor.float()\n","int_tensor.dtype"],"metadata":{"colab":{"base_uri":"https://localhost:8080/"},"id":"hlfoyGilWFJ_","executionInfo":{"status":"ok","timestamp":1708107581603,"user_tz":-60,"elapsed":262,"user":{"displayName":"Terezija Semenski","userId":"11306909145050492588"}},"outputId":"c2e89c97-8228-4d15-a982-0a002e0626dc"},"execution_count":null,"outputs":[{"output_type":"execute_result","data":{"text/plain":["torch.float32"]},"metadata":{},"execution_count":5}]},{"cell_type":"code","source":["#@title Casting a tensor to a new data type (2nd way)\n","last_tensor = short_tensor.to(dtype=torch.int8)\n","last_tensor.dtype"],"metadata":{"colab":{"base_uri":"https://localhost:8080/"},"id":"U4hnlaO7WZ2c","executionInfo":{"status":"ok","timestamp":1708107608316,"user_tz":-60,"elapsed":258,"user":{"displayName":"Terezija Semenski","userId":"11306909145050492588"}},"outputId":"f0fe6ddb-afb6-4ef6-d2d6-9274d2834be3"},"execution_count":null,"outputs":[{"output_type":"execute_result","data":{"text/plain":["torch.int8"]},"metadata":{},"execution_count":6}]}]}
